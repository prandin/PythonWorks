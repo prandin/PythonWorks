{
 "cells": [
  {
   "cell_type": "code",
   "execution_count": 12,
   "metadata": {},
   "outputs": [],
   "source": [
    "# Install required libraries\n",
    "# Uncomment the following lines if the libraries are not already installed\n",
    "# !pip install pandas scikit-learn"
   ]
  },
  {
   "cell_type": "code",
   "execution_count": 13,
   "metadata": {},
   "outputs": [],
   "source": [
    "# Import required libraries\n",
    "import pandas as pd\n",
    "from sklearn.feature_extraction.text import TfidfVectorizer\n",
    "from sklearn.model_selection import train_test_split\n",
    "from sklearn.naive_bayes import MultinomialNB"
   ]
  },
  {
   "cell_type": "code",
   "execution_count": 14,
   "metadata": {},
   "outputs": [],
   "source": [
    "# Step 1: Load the Dataset\n",
    "data = {\n",
    "    \"Text\": [\n",
    "        \"I love this product! It works amazingly well.\",\n",
    "        \"This is the worst experience I have ever had.\",\n",
    "        \"Absolutely fantastic service and quality.\",\n",
    "        \"I hate the way this product feels.\",\n",
    "        \"The design is beautiful, but the performance is mediocre.\",\n",
    "        \"Excellent value for the price!\",\n",
    "        \"Not worth the money. Terrible experience.\",\n",
    "        \"I am extremely satisfied with my purchase.\",\n",
    "        \"The product broke after one use. Very disappointing.\",\n",
    "        \"It does what it promises. Decent overall.\"\n",
    "    ],\n",
    "    \"Sentiment\": [1, 0, 1, 0, 0, 1, 0, 1, 0, 1]  # 1=Positive, 0=Negative\n",
    "}"
   ]
  },
  {
   "cell_type": "code",
   "execution_count": 15,
   "metadata": {},
   "outputs": [],
   "source": [
    "# Convert the data into a DataFrame\n",
    "df = pd.DataFrame(data)"
   ]
  },
  {
   "cell_type": "code",
   "execution_count": null,
   "metadata": {},
   "outputs": [],
   "source": [
    "df"
   ]
  },
  {
   "cell_type": "code",
   "execution_count": 17,
   "metadata": {},
   "outputs": [],
   "source": [
    "# Step 2: Preprocess Text (Using TfidfVectorizer for simplicity)\n",
    "vectorizer = TfidfVectorizer(stop_words='english')\n",
    "X = vectorizer.fit_transform(df['Text'])  # Transform text into numerical features\n",
    "y = df['Sentiment']"
   ]
  },
  {
   "cell_type": "code",
   "execution_count": 18,
   "metadata": {},
   "outputs": [],
   "source": [
    "# Step 3: Split the Data into Train and Test Sets\n",
    "X_train, X_test, y_train, y_test = train_test_split(X, y, test_size=0.3, random_state=42)"
   ]
  },
  {
   "cell_type": "code",
   "execution_count": null,
   "metadata": {},
   "outputs": [],
   "source": [
    "# Step 4: Train the Sentiment Analysis Model\n",
    "model = MultinomialNB()  # Using Naive Bayes classifier\n",
    "model.fit(X_train, y_train)"
   ]
  },
  {
   "cell_type": "code",
   "execution_count": 20,
   "metadata": {},
   "outputs": [],
   "source": [
    "# Step 5: Make Predictions\n",
    "y_pred = model.predict(X_test)"
   ]
  },
  {
   "cell_type": "code",
   "execution_count": 21,
   "metadata": {},
   "outputs": [],
   "source": [
    "# Step 6: Test with New Data\n",
    "new_texts = [\n",
    "    \"I am so happy with this purchase!\",\n",
    "    \"This is the most terrible item.\",\n",
    "    \"The quality is very good, and I love it.\",\n",
    "    \"It's not bad, but I expected better.\"\n",
    "]\n",
    "\n",
    "new_X = vectorizer.transform(new_texts)  # Transform new texts to match model's input\n",
    "y_new_pred = model.predict(new_X)"
   ]
  },
  {
   "cell_type": "code",
   "execution_count": null,
   "metadata": {},
   "outputs": [],
   "source": [
    "# Display the Results\n",
    "for text, sentiment in zip(new_texts, y_new_pred):\n",
    "    sentiment_label = \"Positive\" if sentiment == 1 else \"Negative\"\n",
    "    print(f\"Text: {text}\\nPredicted Sentiment: {sentiment_label}\\n\")"
   ]
  }
 ],
 "metadata": {
  "kernelspec": {
   "display_name": "Python 3",
   "language": "python",
   "name": "python3"
  },
  "language_info": {
   "codemirror_mode": {
    "name": "ipython",
    "version": 3
   },
   "file_extension": ".py",
   "mimetype": "text/x-python",
   "name": "python",
   "nbconvert_exporter": "python",
   "pygments_lexer": "ipython3",
   "version": "3.10.0"
  }
 },
 "nbformat": 4,
 "nbformat_minor": 2
}
